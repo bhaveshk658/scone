{
 "cells": [
  {
   "cell_type": "markdown",
   "id": "45704f00",
   "metadata": {},
   "source": [
    "### Data\n",
    "This notebook contains all of the pre-processing and formatting necessary to generate training, validation, and test data."
   ]
  },
  {
   "cell_type": "code",
   "execution_count": 50,
   "id": "8dbe6b37",
   "metadata": {},
   "outputs": [],
   "source": [
    "import numpy as np\n",
    "import pandas as pd\n",
    "import matplotlib.pyplot as plt\n",
    "import george\n",
    "\n",
    "from sklearn.model_selection import train_test_split\n",
    "from sklearn.utils import shuffle\n",
    "from scipy.optimize import minimize\n",
    "from functools import partial"
   ]
  },
  {
   "cell_type": "code",
   "execution_count": 2,
   "id": "51e99bdf",
   "metadata": {},
   "outputs": [
    {
     "data": {
      "text/html": [
       "<div>\n",
       "<style scoped>\n",
       "    .dataframe tbody tr th:only-of-type {\n",
       "        vertical-align: middle;\n",
       "    }\n",
       "\n",
       "    .dataframe tbody tr th {\n",
       "        vertical-align: top;\n",
       "    }\n",
       "\n",
       "    .dataframe thead th {\n",
       "        text-align: right;\n",
       "    }\n",
       "</style>\n",
       "<table border=\"1\" class=\"dataframe\">\n",
       "  <thead>\n",
       "    <tr style=\"text-align: right;\">\n",
       "      <th></th>\n",
       "      <th>object_id</th>\n",
       "      <th>mjd</th>\n",
       "      <th>passband</th>\n",
       "      <th>flux</th>\n",
       "      <th>flux_err</th>\n",
       "      <th>detected</th>\n",
       "    </tr>\n",
       "  </thead>\n",
       "  <tbody>\n",
       "    <tr>\n",
       "      <th>0</th>\n",
       "      <td>615</td>\n",
       "      <td>59750.4229</td>\n",
       "      <td>2</td>\n",
       "      <td>-544.810303</td>\n",
       "      <td>3.622952</td>\n",
       "      <td>1</td>\n",
       "    </tr>\n",
       "    <tr>\n",
       "      <th>1</th>\n",
       "      <td>615</td>\n",
       "      <td>59750.4306</td>\n",
       "      <td>1</td>\n",
       "      <td>-816.434326</td>\n",
       "      <td>5.553370</td>\n",
       "      <td>1</td>\n",
       "    </tr>\n",
       "    <tr>\n",
       "      <th>2</th>\n",
       "      <td>615</td>\n",
       "      <td>59750.4383</td>\n",
       "      <td>3</td>\n",
       "      <td>-471.385529</td>\n",
       "      <td>3.801213</td>\n",
       "      <td>1</td>\n",
       "    </tr>\n",
       "    <tr>\n",
       "      <th>3</th>\n",
       "      <td>615</td>\n",
       "      <td>59750.4450</td>\n",
       "      <td>4</td>\n",
       "      <td>-388.984985</td>\n",
       "      <td>11.395031</td>\n",
       "      <td>1</td>\n",
       "    </tr>\n",
       "    <tr>\n",
       "      <th>4</th>\n",
       "      <td>615</td>\n",
       "      <td>59752.4070</td>\n",
       "      <td>2</td>\n",
       "      <td>-681.858887</td>\n",
       "      <td>4.041204</td>\n",
       "      <td>1</td>\n",
       "    </tr>\n",
       "    <tr>\n",
       "      <th>...</th>\n",
       "      <td>...</td>\n",
       "      <td>...</td>\n",
       "      <td>...</td>\n",
       "      <td>...</td>\n",
       "      <td>...</td>\n",
       "      <td>...</td>\n",
       "    </tr>\n",
       "    <tr>\n",
       "      <th>1421700</th>\n",
       "      <td>130779836</td>\n",
       "      <td>60555.9838</td>\n",
       "      <td>4</td>\n",
       "      <td>-39.881969</td>\n",
       "      <td>46.477093</td>\n",
       "      <td>0</td>\n",
       "    </tr>\n",
       "    <tr>\n",
       "      <th>1421701</th>\n",
       "      <td>130779836</td>\n",
       "      <td>60560.0459</td>\n",
       "      <td>1</td>\n",
       "      <td>14.894439</td>\n",
       "      <td>18.947685</td>\n",
       "      <td>0</td>\n",
       "    </tr>\n",
       "    <tr>\n",
       "      <th>1421702</th>\n",
       "      <td>130779836</td>\n",
       "      <td>60571.0225</td>\n",
       "      <td>5</td>\n",
       "      <td>30.593130</td>\n",
       "      <td>50.695290</td>\n",
       "      <td>0</td>\n",
       "    </tr>\n",
       "    <tr>\n",
       "      <th>1421703</th>\n",
       "      <td>130779836</td>\n",
       "      <td>60585.9974</td>\n",
       "      <td>4</td>\n",
       "      <td>-23.471439</td>\n",
       "      <td>44.819859</td>\n",
       "      <td>0</td>\n",
       "    </tr>\n",
       "    <tr>\n",
       "      <th>1421704</th>\n",
       "      <td>130779836</td>\n",
       "      <td>60588.0372</td>\n",
       "      <td>0</td>\n",
       "      <td>-41.214264</td>\n",
       "      <td>51.665123</td>\n",
       "      <td>0</td>\n",
       "    </tr>\n",
       "  </tbody>\n",
       "</table>\n",
       "<p>1421705 rows × 6 columns</p>\n",
       "</div>"
      ],
      "text/plain": [
       "         object_id         mjd  passband        flux   flux_err  detected\n",
       "0              615  59750.4229         2 -544.810303   3.622952         1\n",
       "1              615  59750.4306         1 -816.434326   5.553370         1\n",
       "2              615  59750.4383         3 -471.385529   3.801213         1\n",
       "3              615  59750.4450         4 -388.984985  11.395031         1\n",
       "4              615  59752.4070         2 -681.858887   4.041204         1\n",
       "...            ...         ...       ...         ...        ...       ...\n",
       "1421700  130779836  60555.9838         4  -39.881969  46.477093         0\n",
       "1421701  130779836  60560.0459         1   14.894439  18.947685         0\n",
       "1421702  130779836  60571.0225         5   30.593130  50.695290         0\n",
       "1421703  130779836  60585.9974         4  -23.471439  44.819859         0\n",
       "1421704  130779836  60588.0372         0  -41.214264  51.665123         0\n",
       "\n",
       "[1421705 rows x 6 columns]"
      ]
     },
     "execution_count": 2,
     "metadata": {},
     "output_type": "execute_result"
    }
   ],
   "source": [
    "# Read data/metadata from csv files\n",
    "df = pd.read_csv(\"data/training_set.csv\")\n",
    "md = pd.read_csv(\"data/training_set_metadata.csv\")\n",
    "df"
   ]
  },
  {
   "cell_type": "code",
   "execution_count": 3,
   "id": "768da595",
   "metadata": {},
   "outputs": [
    {
     "data": {
      "text/html": [
       "<div>\n",
       "<style scoped>\n",
       "    .dataframe tbody tr th:only-of-type {\n",
       "        vertical-align: middle;\n",
       "    }\n",
       "\n",
       "    .dataframe tbody tr th {\n",
       "        vertical-align: top;\n",
       "    }\n",
       "\n",
       "    .dataframe thead th {\n",
       "        text-align: right;\n",
       "    }\n",
       "</style>\n",
       "<table border=\"1\" class=\"dataframe\">\n",
       "  <thead>\n",
       "    <tr style=\"text-align: right;\">\n",
       "      <th></th>\n",
       "      <th>object_id</th>\n",
       "      <th>ra</th>\n",
       "      <th>decl</th>\n",
       "      <th>gal_l</th>\n",
       "      <th>gal_b</th>\n",
       "      <th>ddf</th>\n",
       "      <th>hostgal_specz</th>\n",
       "      <th>hostgal_photoz</th>\n",
       "      <th>hostgal_photoz_err</th>\n",
       "      <th>distmod</th>\n",
       "      <th>mwebv</th>\n",
       "      <th>target</th>\n",
       "    </tr>\n",
       "  </thead>\n",
       "  <tbody>\n",
       "    <tr>\n",
       "      <th>0</th>\n",
       "      <td>615</td>\n",
       "      <td>349.046051</td>\n",
       "      <td>-61.943836</td>\n",
       "      <td>320.796530</td>\n",
       "      <td>-51.753706</td>\n",
       "      <td>1</td>\n",
       "      <td>0.0000</td>\n",
       "      <td>0.0000</td>\n",
       "      <td>0.0000</td>\n",
       "      <td>NaN</td>\n",
       "      <td>0.017</td>\n",
       "      <td>92</td>\n",
       "    </tr>\n",
       "    <tr>\n",
       "      <th>1</th>\n",
       "      <td>713</td>\n",
       "      <td>53.085938</td>\n",
       "      <td>-27.784405</td>\n",
       "      <td>223.525509</td>\n",
       "      <td>-54.460748</td>\n",
       "      <td>1</td>\n",
       "      <td>1.8181</td>\n",
       "      <td>1.6267</td>\n",
       "      <td>0.2552</td>\n",
       "      <td>45.4063</td>\n",
       "      <td>0.007</td>\n",
       "      <td>88</td>\n",
       "    </tr>\n",
       "    <tr>\n",
       "      <th>2</th>\n",
       "      <td>730</td>\n",
       "      <td>33.574219</td>\n",
       "      <td>-6.579593</td>\n",
       "      <td>170.455585</td>\n",
       "      <td>-61.548219</td>\n",
       "      <td>1</td>\n",
       "      <td>0.2320</td>\n",
       "      <td>0.2262</td>\n",
       "      <td>0.0157</td>\n",
       "      <td>40.2561</td>\n",
       "      <td>0.021</td>\n",
       "      <td>42</td>\n",
       "    </tr>\n",
       "    <tr>\n",
       "      <th>3</th>\n",
       "      <td>745</td>\n",
       "      <td>0.189873</td>\n",
       "      <td>-45.586655</td>\n",
       "      <td>328.254458</td>\n",
       "      <td>-68.969298</td>\n",
       "      <td>1</td>\n",
       "      <td>0.3037</td>\n",
       "      <td>0.2813</td>\n",
       "      <td>1.1523</td>\n",
       "      <td>40.7951</td>\n",
       "      <td>0.007</td>\n",
       "      <td>90</td>\n",
       "    </tr>\n",
       "    <tr>\n",
       "      <th>4</th>\n",
       "      <td>1124</td>\n",
       "      <td>352.711273</td>\n",
       "      <td>-63.823658</td>\n",
       "      <td>316.922299</td>\n",
       "      <td>-51.059403</td>\n",
       "      <td>1</td>\n",
       "      <td>0.1934</td>\n",
       "      <td>0.2415</td>\n",
       "      <td>0.0176</td>\n",
       "      <td>40.4166</td>\n",
       "      <td>0.024</td>\n",
       "      <td>90</td>\n",
       "    </tr>\n",
       "    <tr>\n",
       "      <th>...</th>\n",
       "      <td>...</td>\n",
       "      <td>...</td>\n",
       "      <td>...</td>\n",
       "      <td>...</td>\n",
       "      <td>...</td>\n",
       "      <td>...</td>\n",
       "      <td>...</td>\n",
       "      <td>...</td>\n",
       "      <td>...</td>\n",
       "      <td>...</td>\n",
       "      <td>...</td>\n",
       "      <td>...</td>\n",
       "    </tr>\n",
       "    <tr>\n",
       "      <th>7843</th>\n",
       "      <td>130739978</td>\n",
       "      <td>26.718750</td>\n",
       "      <td>-14.940303</td>\n",
       "      <td>172.342697</td>\n",
       "      <td>-72.255675</td>\n",
       "      <td>0</td>\n",
       "      <td>0.0000</td>\n",
       "      <td>0.0000</td>\n",
       "      <td>0.0000</td>\n",
       "      <td>NaN</td>\n",
       "      <td>0.013</td>\n",
       "      <td>65</td>\n",
       "    </tr>\n",
       "    <tr>\n",
       "      <th>7844</th>\n",
       "      <td>130755807</td>\n",
       "      <td>120.101349</td>\n",
       "      <td>-62.696659</td>\n",
       "      <td>275.742955</td>\n",
       "      <td>-16.509746</td>\n",
       "      <td>0</td>\n",
       "      <td>0.1725</td>\n",
       "      <td>2.5606</td>\n",
       "      <td>1.1146</td>\n",
       "      <td>46.6108</td>\n",
       "      <td>0.136</td>\n",
       "      <td>90</td>\n",
       "    </tr>\n",
       "    <tr>\n",
       "      <th>7845</th>\n",
       "      <td>130762946</td>\n",
       "      <td>203.108109</td>\n",
       "      <td>-55.682144</td>\n",
       "      <td>308.728904</td>\n",
       "      <td>6.727511</td>\n",
       "      <td>0</td>\n",
       "      <td>0.0000</td>\n",
       "      <td>0.0000</td>\n",
       "      <td>0.0000</td>\n",
       "      <td>NaN</td>\n",
       "      <td>0.430</td>\n",
       "      <td>16</td>\n",
       "    </tr>\n",
       "    <tr>\n",
       "      <th>7846</th>\n",
       "      <td>130772921</td>\n",
       "      <td>79.101562</td>\n",
       "      <td>-35.501846</td>\n",
       "      <td>239.172243</td>\n",
       "      <td>-33.827844</td>\n",
       "      <td>0</td>\n",
       "      <td>0.0000</td>\n",
       "      <td>0.0000</td>\n",
       "      <td>0.0000</td>\n",
       "      <td>NaN</td>\n",
       "      <td>0.034</td>\n",
       "      <td>65</td>\n",
       "    </tr>\n",
       "    <tr>\n",
       "      <th>7847</th>\n",
       "      <td>130779836</td>\n",
       "      <td>301.992188</td>\n",
       "      <td>-17.426323</td>\n",
       "      <td>25.102988</td>\n",
       "      <td>-24.511101</td>\n",
       "      <td>0</td>\n",
       "      <td>0.0000</td>\n",
       "      <td>0.0000</td>\n",
       "      <td>0.0000</td>\n",
       "      <td>NaN</td>\n",
       "      <td>0.091</td>\n",
       "      <td>6</td>\n",
       "    </tr>\n",
       "  </tbody>\n",
       "</table>\n",
       "<p>7848 rows × 12 columns</p>\n",
       "</div>"
      ],
      "text/plain": [
       "      object_id          ra       decl       gal_l      gal_b  ddf  \\\n",
       "0           615  349.046051 -61.943836  320.796530 -51.753706    1   \n",
       "1           713   53.085938 -27.784405  223.525509 -54.460748    1   \n",
       "2           730   33.574219  -6.579593  170.455585 -61.548219    1   \n",
       "3           745    0.189873 -45.586655  328.254458 -68.969298    1   \n",
       "4          1124  352.711273 -63.823658  316.922299 -51.059403    1   \n",
       "...         ...         ...        ...         ...        ...  ...   \n",
       "7843  130739978   26.718750 -14.940303  172.342697 -72.255675    0   \n",
       "7844  130755807  120.101349 -62.696659  275.742955 -16.509746    0   \n",
       "7845  130762946  203.108109 -55.682144  308.728904   6.727511    0   \n",
       "7846  130772921   79.101562 -35.501846  239.172243 -33.827844    0   \n",
       "7847  130779836  301.992188 -17.426323   25.102988 -24.511101    0   \n",
       "\n",
       "      hostgal_specz  hostgal_photoz  hostgal_photoz_err  distmod  mwebv  \\\n",
       "0            0.0000          0.0000              0.0000      NaN  0.017   \n",
       "1            1.8181          1.6267              0.2552  45.4063  0.007   \n",
       "2            0.2320          0.2262              0.0157  40.2561  0.021   \n",
       "3            0.3037          0.2813              1.1523  40.7951  0.007   \n",
       "4            0.1934          0.2415              0.0176  40.4166  0.024   \n",
       "...             ...             ...                 ...      ...    ...   \n",
       "7843         0.0000          0.0000              0.0000      NaN  0.013   \n",
       "7844         0.1725          2.5606              1.1146  46.6108  0.136   \n",
       "7845         0.0000          0.0000              0.0000      NaN  0.430   \n",
       "7846         0.0000          0.0000              0.0000      NaN  0.034   \n",
       "7847         0.0000          0.0000              0.0000      NaN  0.091   \n",
       "\n",
       "      target  \n",
       "0         92  \n",
       "1         88  \n",
       "2         42  \n",
       "3         90  \n",
       "4         90  \n",
       "...      ...  \n",
       "7843      65  \n",
       "7844      90  \n",
       "7845      16  \n",
       "7846      65  \n",
       "7847       6  \n",
       "\n",
       "[7848 rows x 12 columns]"
      ]
     },
     "execution_count": 3,
     "metadata": {},
     "output_type": "execute_result"
    }
   ],
   "source": [
    "md"
   ]
  },
  {
   "cell_type": "markdown",
   "id": "88bc9e0d",
   "metadata": {},
   "source": [
    "#### Preprocessing"
   ]
  },
  {
   "cell_type": "code",
   "execution_count": null,
   "id": "883dd08a",
   "metadata": {},
   "outputs": [],
   "source": [
    "# Remove all objects with less than 5 data points (there are none)\n",
    "df = df.groupby(\"object_id\").filter(lambda x: len(x) >= 5)"
   ]
  },
  {
   "cell_type": "code",
   "execution_count": null,
   "id": "79c0f6a6",
   "metadata": {},
   "outputs": [],
   "source": [
    "# Remove all objects with a CSNR <= 10\n",
    "removed_ids = []\n",
    "for object_id in df[\"object_id\"].unique():\n",
    "    obj = df.loc[df[\"object_id\"] == object_id]\n",
    "    csnr = np.sqrt(np.sum((obj[\"flux\"] ** 2) / (obj[\"flux_err\"] ** 2)))\n",
    "    if csnr <= 10:\n",
    "        removed_ids.append(object_id)\n",
    "removed_ids"
   ]
  },
  {
   "cell_type": "code",
   "execution_count": null,
   "id": "7641afbc",
   "metadata": {},
   "outputs": [],
   "source": [
    "# Remove all objects with a timeframe < 30 days (there are none)\n",
    "removed_ids = []\n",
    "for object_id in df[\"object_id\"].unique():\n",
    "    obj = df.loc[df[\"object_id\"] == object_id]\n",
    "    start = obj[\"mjd\"].iloc[0]\n",
    "    end = obj[\"mjd\"].iloc[-1]\n",
    "    time = end - start\n",
    "    if time < 30:\n",
    "        removed_ids.append(object_id)\n",
    "removed_ids"
   ]
  },
  {
   "cell_type": "markdown",
   "id": "9d7f794a",
   "metadata": {},
   "source": [
    "#### Sample Light Curve"
   ]
  },
  {
   "cell_type": "code",
   "execution_count": 6,
   "id": "da24a705",
   "metadata": {},
   "outputs": [
    {
     "data": {
      "image/png": "[encoded data removed]",
      "text/plain": [
       "<Figure size 640x480 with 1 Axes>"
      ]
     },
     "metadata": {},
     "output_type": "display_data"
    }
   ],
   "source": [
    "# Examine one particular object\n",
    "obj = df.loc[df[\"object_id\"] == 130779836]\n",
    "plt.xlabel(\"mjd (days)\")\n",
    "plt.ylabel(\"flux (AU)\")\n",
    "plt.plot(obj[\"mjd\"], obj[\"flux\"])\n",
    "plt.show()"
   ]
  },
  {
   "cell_type": "markdown",
   "id": "81380f85",
   "metadata": {},
   "source": [
    "#### 80/10/10 Train/Val/Test split"
   ]
  },
  {
   "cell_type": "code",
   "execution_count": 10,
   "id": "9eca0f70",
   "metadata": {},
   "outputs": [
    {
     "data": {
      "text/plain": [
       "(6278, 1570)"
      ]
     },
     "execution_count": 10,
     "metadata": {},
     "output_type": "execute_result"
    }
   ],
   "source": [
    "train_ids, val_test_ids = train_test_split(md[\"object_id\"], test_size=0.2, random_state=39)\n",
    "len(train_ids), len(val_test_ids)"
   ]
  },
  {
   "cell_type": "code",
   "execution_count": 11,
   "id": "807d76fc",
   "metadata": {},
   "outputs": [
    {
     "data": {
      "text/plain": [
       "(785, 785)"
      ]
     },
     "execution_count": 11,
     "metadata": {},
     "output_type": "execute_result"
    }
   ],
   "source": [
    "val_ids, test_ids = train_test_split(val_test_ids, test_size=0.5)\n",
    "len(val_ids), len(test_ids)"
   ]
  },
  {
   "cell_type": "markdown",
   "id": "265e2fa2",
   "metadata": {},
   "source": [
    "#### Class Distribution Analysis"
   ]
  },
  {
   "cell_type": "code",
   "execution_count": 12,
   "id": "8ae784b2",
   "metadata": {},
   "outputs": [
    {
     "data": {
      "text/plain": [
       "0.2945205479452055"
      ]
     },
     "execution_count": 12,
     "metadata": {},
     "output_type": "execute_result"
    }
   ],
   "source": [
    "train_md = md.loc[md[\"object_id\"].isin(train_ids)]\n",
    "len(train_md.loc[train_md[\"target\"] == 90]) / len(train_md)"
   ]
  },
  {
   "cell_type": "code",
   "execution_count": 13,
   "id": "f9ab3bee",
   "metadata": {},
   "outputs": [
    {
     "data": {
      "text/plain": [
       "0.3006369426751592"
      ]
     },
     "execution_count": 13,
     "metadata": {},
     "output_type": "execute_result"
    }
   ],
   "source": [
    "val_md = md.loc[md[\"object_id\"].isin(val_ids)]\n",
    "len(val_md.loc[val_md[\"target\"] == 90]) / len(val_md)"
   ]
  },
  {
   "cell_type": "code",
   "execution_count": 14,
   "id": "3f07678c",
   "metadata": {},
   "outputs": [
    {
     "data": {
      "text/plain": [
       "0.29044585987261146"
      ]
     },
     "execution_count": 14,
     "metadata": {},
     "output_type": "execute_result"
    }
   ],
   "source": [
    "test_md = md.loc[md[\"object_id\"].isin(test_ids)]\n",
    "len(test_md.loc[test_md[\"target\"] == 90]) / len(test_md)"
   ]
  },
  {
   "cell_type": "markdown",
   "id": "68ad19cf",
   "metadata": {},
   "source": [
    "Because this is a binary classification problem, we only have two classes. We want the training data to have a balanced class distribution (50% Type 1a, 50% non Type1a). Therefore, we will randomly discard training points such that there are an equal number of points from each class."
   ]
  },
  {
   "cell_type": "code",
   "execution_count": 18,
   "id": "9f7f555e",
   "metadata": {},
   "outputs": [
    {
     "data": {
      "text/plain": [
       "(1849, 1849, 3698)"
      ]
     },
     "execution_count": 18,
     "metadata": {},
     "output_type": "execute_result"
    }
   ],
   "source": [
    "train_md_Ia = train_md.loc[train_md[\"target\"] == 90]\n",
    "train_md_nonIa = train_md.loc[train_md[\"target\"] != 90]\n",
    "train_md_nonIa = train_md_nonIa.sample(len(train_md_Ia))\n",
    "train_ids = list(train_md_Ia[\"object_id\"]) + list(train_md_nonIa[\"object_id\"])\n",
    "len(train_md_Ia), len(train_md_nonIa), len(train_ids)"
   ]
  },
  {
   "cell_type": "markdown",
   "id": "9e8204ee",
   "metadata": {},
   "source": [
    "#### Helper functions for heatmap creation"
   ]
  },
  {
   "cell_type": "code",
   "execution_count": 55,
   "id": "5e42d5a8",
   "metadata": {},
   "outputs": [],
   "source": [
    "def pb_to_wavelength(pb):\n",
    "    \"\"\"\n",
    "    Converts LSST ugrizY passbands (0, 1, 2, 3, 4, 5) to wavelength using ugrizY\n",
    "    \"\"\"\n",
    "    if pb == 0:\n",
    "        return 3670.69\n",
    "    if pb == 1:\n",
    "        return 4826.85\n",
    "    if pb == 2:\n",
    "        return 6223.24\n",
    "    if pb == 3:\n",
    "        return 7545.98\n",
    "    if pb == 4:\n",
    "        return 8590.90\n",
    "    if pb == 5:\n",
    "        return 9710.28\n",
    "\n",
    "def create_gp(obj, guess_length_scale=20, verbose=False):\n",
    "    \"\"\"\n",
    "    Code is from https://github.com/kboone/avocado, some minor modifications\n",
    "    \"\"\"\n",
    "    mjds = obj[\"mjd\"]\n",
    "    fluxes = obj[\"flux\"]\n",
    "    flux_errors = obj[\"flux_err\"]\n",
    "    wavelengths = [pb_to_wavelength(pb) for pb in obj[\"passband\"]]\n",
    "    \n",
    "    signal_to_noises = np.abs(fluxes) / np.sqrt(flux_errors ** 2 + (1e-2 * np.max(fluxes)) ** 2)\n",
    "    scale = np.abs(fluxes[signal_to_noises.idxmax()])\n",
    "    \n",
    "    kernel = (0.5 * scale) ** 2 * george.kernels.Matern32Kernel([guess_length_scale ** 2, 6000 ** 2], ndim=2)\n",
    "    \n",
    "    gp = george.GP(kernel)\n",
    "    guess_parameters = gp.get_parameter_vector()\n",
    "    \n",
    "    if verbose:\n",
    "        print(kernel.get_parameter_dict())\n",
    "        \n",
    "    x_data = np.vstack([mjds, wavelengths]).T\n",
    "\n",
    "    gp.compute(x_data, flux_errors)\n",
    "\n",
    "    def neg_ln_like(p):\n",
    "        gp.set_parameter_vector(p)\n",
    "        return -gp.log_likelihood(fluxes)\n",
    "\n",
    "    def grad_neg_ln_like(p):\n",
    "        gp.set_parameter_vector(p)\n",
    "        return -gp.grad_log_likelihood(fluxes)\n",
    "    \n",
    "    bounds = [(0, np.log(1000 ** 2))]\n",
    "    bounds = [(guess_parameters[0] - 10, guess_parameters[0] + 10)] + bounds + [(None, None)]\n",
    "    \n",
    "    try:\n",
    "        fit_result = minimize(neg_ln_like, gp.get_parameter_vector(), jac=grad_neg_ln_like, bounds=bounds)\n",
    "        if fit_result.success:\n",
    "            gp.set_parameter_vector(fit_result.x)\n",
    "    except ValueError:\n",
    "        gp.set_parameter_vector(guess_parameters)\n",
    "        \n",
    "    if verbose:\n",
    "        print(fit_result)\n",
    "        print(kernel.get_parameter_dict())\n",
    "        \n",
    "    gaussian_process = partial(gp.predict, fluxes)\n",
    "    return gaussian_process\n",
    "\n",
    "def get_t_min_max(obj):\n",
    "    index = np.argmax(obj[\"flux\"])\n",
    "    t_peak = obj[\"mjd\"].iloc[index]\n",
    "    \n",
    "    t_min = t_peak - 50\n",
    "    t_max = t_peak + 130\n",
    "    return t_min, t_max\n",
    "\n",
    "def create_heatmap(obj, mjd_bins=180, wavelength_bins=32, verbose=False):\n",
    "    \"\"\"\n",
    "    Creates heatmap from original light curve using gaussian process regression\n",
    "    \"\"\"\n",
    "    gp = create_gp(obj, verbose=verbose)\n",
    "    if gp == None:\n",
    "        print(\"Gaussian process was none\")\n",
    "        return\n",
    "    \n",
    "    t_min, t_max = get_t_min_max(obj)\n",
    "    \n",
    "    mjds = np.linspace(t_min, t_max, mjd_bins)\n",
    "    wavelengths = np.linspace(3000.0, 10100.0, wavelength_bins)\n",
    "    \n",
    "    grid = np.transpose([np.tile(mjds, len(wavelengths)), np.repeat(wavelengths, len(mjds))])\n",
    "    predictions, prediction_vars = gp(rid, return_var=True)\n",
    "    predictions = np.array(predictions).reshape(32, 180)\n",
    "    uncertainties = np.sqrt(prediction_vars).reshape(32, 180)\n",
    "    \n",
    "    min_flux = np.min(predictions)\n",
    "    max_flux = np.max(predictions)\n",
    "    \n",
    "    min_uncertainty = np.min(uncertainties)\n",
    "    max_uncertainty = np.max(uncertainties)\n",
    "    \n",
    "    if max_flux - min_flux == 0:\n",
    "        normalized_predictions = predictions * 0\n",
    "    else:\n",
    "        normalized_predictions = (predictions - min_flux) / (max_flux - min_flux)\n",
    "        \n",
    "    if max_uncertainty - min_uncertainty == 0:\n",
    "        normalized_uncertainties = uncertainties * 0\n",
    "    else:\n",
    "        normalized_uncertainties = (uncertainties - min_uncertainty) / (max_uncertainty - min_uncertainty)\n",
    "\n",
    "    return normalized_predictions, normalized_uncertainties\n"
   ]
  },
  {
   "cell_type": "markdown",
   "id": "41bcd113",
   "metadata": {},
   "source": [
    "#### Sample heatmaps"
   ]
  },
  {
   "cell_type": "code",
   "execution_count": 56,
   "id": "1ef8844c",
   "metadata": {},
   "outputs": [
    {
     "data": {
      "text/plain": [
       "<matplotlib.image.AxesImage at 0x127b2c130>"
      ]
     },
     "execution_count": 56,
     "metadata": {},
     "output_type": "execute_result"
    },
    {
     "data": {
      "image/png": "[encoded data removed]",
      "text/plain": [
       "<Figure size 640x480 with 1 Axes>"
      ]
     },
     "metadata": {},
     "output_type": "display_data"
    },
    {
     "data": {
      "image/png": "[encoded data removed]",
      "text/plain": [
       "<Figure size 640x480 with 1 Axes>"
      ]
     },
     "metadata": {},
     "output_type": "display_data"
    }
   ],
   "source": [
    "# Type 1a supernova\n",
    "id = train_md_Ia[\"object_id\"].iloc[4]\n",
    "obj = df.loc[df[\"object_id\"] == id]\n",
    "pred, uncertainties = create_heatmap(obj)\n",
    "plt.figure(0)\n",
    "plt.xlabel(\"mjd (days)\")\n",
    "plt.ylabel(\"wavelength (Å)\")\n",
    "plt.imshow(pred, cmap=\"viridis\", interpolation=\"gaussian\")\n",
    "plt.figure(1)\n",
    "plt.xlabel(\"mjd (days)\")\n",
    "plt.ylabel(\"wavelength (Å)\")\n",
    "plt.imshow(uncertainties, cmap=\"viridis\", interpolation=\"gaussian\")"
   ]
  },
  {
   "cell_type": "code",
   "execution_count": 57,
   "id": "76f7d8e5",
   "metadata": {},
   "outputs": [
    {
     "data": {
      "text/plain": [
       "<matplotlib.image.AxesImage at 0x12a1b9880>"
      ]
     },
     "execution_count": 57,
     "metadata": {},
     "output_type": "execute_result"
    },
    {
     "data": {
      "image/png": "[encoded data removed]",
      "text/plain": [
       "<Figure size 640x480 with 1 Axes>"
      ]
     },
     "metadata": {},
     "output_type": "display_data"
    },
    {
     "data": {
      "image/png": "[encoded data removed]",
      "text/plain": [
       "<Figure size 640x480 with 1 Axes>"
      ]
     },
     "metadata": {},
     "output_type": "display_data"
    }
   ],
   "source": [
    "# Object that is not a Type 1a supernova\n",
    "id = train_md_nonIa[\"object_id\"].iloc[4]\n",
    "obj = df.loc[df[\"object_id\"] == id]\n",
    "pred, uncertainties = create_heatmap(obj)\n",
    "plt.figure(0)\n",
    "plt.xlabel(\"mjd (days)\")\n",
    "plt.ylabel(\"wavelength (Å)\")\n",
    "plt.imshow(pred, cmap=\"viridis\", interpolation=\"gaussian\")\n",
    "plt.figure(1)\n",
    "plt.xlabel(\"mjd (days)\")\n",
    "plt.ylabel(\"wavelength (Å)\")\n",
    "plt.imshow(uncertainties, cmap=\"viridis\", interpolation=\"gaussian\")"
   ]
  },
  {
   "cell_type": "markdown",
   "id": "96f685a2",
   "metadata": {},
   "source": [
    "#### Create heatmaps and labels for all data points"
   ]
  },
  {
   "cell_type": "code",
   "execution_count": 59,
   "id": "0093092b",
   "metadata": {},
   "outputs": [
    {
     "name": "stdout",
     "output_type": "stream",
     "text": [
      "On iteration 0\n",
      "On iteration 100\n",
      "On iteration 200\n",
      "On iteration 300\n",
      "On iteration 400\n",
      "On iteration 500\n",
      "On iteration 600\n",
      "On iteration 700\n",
      "On iteration 800\n",
      "On iteration 900\n",
      "On iteration 1000\n",
      "On iteration 1100\n",
      "On iteration 1200\n",
      "On iteration 1300\n",
      "On iteration 1400\n",
      "On iteration 1500\n",
      "On iteration 1600\n",
      "On iteration 1700\n",
      "On iteration 1800\n",
      "On iteration 1900\n",
      "On iteration 2000\n",
      "On iteration 2100\n",
      "On iteration 2200\n",
      "On iteration 2300\n",
      "On iteration 2400\n",
      "On iteration 2500\n",
      "On iteration 2600\n",
      "On iteration 2700\n",
      "On iteration 2800\n",
      "On iteration 2900\n",
      "On iteration 3000\n",
      "On iteration 3100\n",
      "On iteration 3200\n",
      "On iteration 3300\n",
      "On iteration 3400\n",
      "On iteration 3500\n",
      "On iteration 3600\n"
     ]
    },
    {
     "data": {
      "text/plain": [
       "(32, 180, 2)"
      ]
     },
     "execution_count": 59,
     "metadata": {},
     "output_type": "execute_result"
    }
   ],
   "source": [
    "# Training data\n",
    "train_ids = list(train_md_Ia[\"object_id\"]) + list(train_md_nonIa[\"object_id\"])\n",
    "train_labels = [1]*len(train_md_Ia) + [0]*len(train_md_Ia)\n",
    "shuffled_train_ids, shuffled_train_labels = shuffle(train_ids, train_labels, random_state=39)\n",
    "\n",
    "train_data = [None]*len(shuffled_train_ids)\n",
    "for i in range(len(shuffled_train_ids)):\n",
    "    if i % 100 == 0:\n",
    "        print(\"On iteration {}\".format(i))\n",
    "    id = shuffled_train_ids[i]\n",
    "    pred, uncertainties = create_heatmap(df.loc[df[\"object_id\"] == id])\n",
    "    train_data[i] = np.dstack((pred, uncertainties))\n",
    "train_data[0].shape"
   ]
  },
  {
   "cell_type": "code",
   "execution_count": 66,
   "id": "771f648d",
   "metadata": {},
   "outputs": [
    {
     "name": "stdout",
     "output_type": "stream",
     "text": [
      "On iteration 0\n",
      "On iteration 100\n",
      "On iteration 200\n",
      "On iteration 300\n",
      "On iteration 400\n",
      "On iteration 500\n",
      "On iteration 600\n",
      "On iteration 700\n"
     ]
    },
    {
     "data": {
      "text/plain": [
       "(32, 180, 2)"
      ]
     },
     "execution_count": 66,
     "metadata": {},
     "output_type": "execute_result"
    }
   ],
   "source": [
    "# Validation data\n",
    "val_ids = list(val_md[\"object_id\"])\n",
    "val_labels = [0]*len(val_ids)\n",
    "for i in range(len(val_ids)):\n",
    "    id = val_ids[i]\n",
    "    obj = val_md.loc[val_md[\"object_id\"] == id]\n",
    "    if obj.iloc[0][\"target\"] == 90:\n",
    "        val_labels[i] = 1\n",
    "shuffled_val_ids, shuffled_val_labels = shuffle(val_ids, val_labels, random_state=39)\n",
    "\n",
    "val_data = [None]*len(shuffled_val_ids)\n",
    "for i in range(len(shuffled_val_ids)):\n",
    "    if i % 100 == 0:\n",
    "        print(\"On iteration {}\".format(i))\n",
    "    id = shuffled_val_ids[i]\n",
    "    pred, uncertainties = create_heatmap(df.loc[df[\"object_id\"] == id])\n",
    "    val_data[i] = np.dstack((pred, uncertainties))\n",
    "val_data[0].shape"
   ]
  },
  {
   "cell_type": "code",
   "execution_count": 67,
   "id": "499485fb",
   "metadata": {},
   "outputs": [
    {
     "name": "stdout",
     "output_type": "stream",
     "text": [
      "On iteration 0\n",
      "On iteration 100\n",
      "On iteration 200\n",
      "On iteration 300\n",
      "On iteration 400\n",
      "On iteration 500\n",
      "On iteration 600\n",
      "On iteration 700\n"
     ]
    },
    {
     "data": {
      "text/plain": [
       "(32, 180, 2)"
      ]
     },
     "execution_count": 67,
     "metadata": {},
     "output_type": "execute_result"
    }
   ],
   "source": [
    "# Test data\n",
    "test_ids = list(test_md[\"object_id\"])\n",
    "test_labels = [0]*len(test_ids)\n",
    "for i in range(len(test_ids)):\n",
    "    id = test_ids[i]\n",
    "    obj = test_md.loc[test_md[\"object_id\"] == id]\n",
    "    if obj.iloc[0][\"target\"] == 90:\n",
    "        test_labels[i] = 1\n",
    "shuffled_test_ids, shuffled_test_labels = shuffle(test_ids, test_labels, random_state=39)\n",
    "\n",
    "test_data = [None]*len(shuffled_test_ids)\n",
    "for i in range(len(shuffled_test_ids)):\n",
    "    if i % 100 == 0:\n",
    "        print(\"On iteration {}\".format(i))\n",
    "    id = shuffled_test_ids[i]\n",
    "    pred, uncertainties = create_heatmap(df.loc[df[\"object_id\"] == id])\n",
    "    test_data[i] = np.dstack((pred, uncertainties))\n",
    "test_data[0].shape"
   ]
  },
  {
   "cell_type": "code",
   "execution_count": 70,
   "id": "7b63ec21",
   "metadata": {},
   "outputs": [],
   "source": [
    "# Save all arrays\n",
    "np.save(\"train_ids\", shuffled_train_ids)\n",
    "np.save(\"train_data\", train_data)\n",
    "np.save(\"train_labels\", shuffled_train_labels)\n",
    "np.save(\"val_ids\", shuffled_val_ids)\n",
    "np.save(\"val_data\", val_data)\n",
    "np.save(\"val_labels\", shuffled_val_labels)\n",
    "np.save(\"test_ids\", shuffled_test_ids)\n",
    "np.save(\"test_data\", test_data)\n",
    "np.save(\"test_labels\", shuffled_test_labels)"
   ]
  }
 ],
 "metadata": {
  "kernelspec": {
   "display_name": "Python 3 (ipykernel)",
   "language": "python",
   "name": "python3"
  },
  "language_info": {
   "codemirror_mode": {
    "name": "ipython",
    "version": 3
   },
   "file_extension": ".py",
   "mimetype": "text/x-python",
   "name": "python",
   "nbconvert_exporter": "python",
   "pygments_lexer": "ipython3",
   "version": "3.8.16"
  }
 },
 "nbformat": 4,
 "nbformat_minor": 5
}
